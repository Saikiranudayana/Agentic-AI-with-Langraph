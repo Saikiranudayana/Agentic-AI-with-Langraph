{
 "cells": [
  {
   "cell_type": "code",
   "execution_count": 1,
   "id": "d47d4cec",
   "metadata": {},
   "outputs": [],
   "source": [
    "from typing_extensions import TypedDict\n",
    "from typing import Literal"
   ]
  },
  {
   "cell_type": "code",
   "execution_count": 3,
   "id": "3a02f1ab",
   "metadata": {},
   "outputs": [],
   "source": [
    "class NewState(TypedDict):\n",
    "    name: str \n",
    "    game: Literal[\"Cricket\",\"Kabbadi\",\"Football\"]"
   ]
  },
  {
   "cell_type": "code",
   "execution_count": 10,
   "id": "a4ad3a1f",
   "metadata": {},
   "outputs": [],
   "source": [
    "def play_game(state: NewState):\n",
    "    print(\"------Play Game Function has been called------\")\n",
    "    return {\"name\":state[\"name\"]+\"wants to play\"}\n",
    "\n",
    "def cricket(state:NewState):\n",
    "    print(\"------cricket function has been called------\")\n",
    "    return {\"name\":state[\"name\"],\"game\":\"cricket\"}\n",
    "\n",
    "def kabbadi(state:NewState):\n",
    "    print(\"------kabbadi function has been called------\")\n",
    "    return {\"name\":state[\"name\"],\"game\":\"kabbadi\"}\n",
    "def football(state:NewState):\n",
    "    print(\"------football function has been called------\")\n",
    "    return {\"name\":state[\"name\"],\"game\":\"football\"}"
   ]
  },
  {
   "cell_type": "code",
   "execution_count": 5,
   "id": "2c34eaff",
   "metadata": {},
   "outputs": [],
   "source": [
    "import random\n",
    "from IPython.display import Image, display\n",
    "from langgraph.graph import StateGraph,START,END"
   ]
  },
  {
   "cell_type": "code",
   "execution_count": 6,
   "id": "69a00024",
   "metadata": {},
   "outputs": [],
   "source": [
    "import random\n",
    "def decide_paly(state:NewState)-> Literal[\"cricket\",\"Kabbadi\",\"Football\"]:\n",
    "    if random.random()<0.33:\n",
    "        return \"cricket\"\n",
    "    elif random.random()<0.66:\n",
    "        return \"Kabbadi\"\n",
    "    return \"Football\"\n",
    "     \n"
   ]
  },
  {
   "cell_type": "code",
   "execution_count": 9,
   "id": "cd04ff13",
   "metadata": {},
   "outputs": [
    {
     "data": {
      "image/png": "[encoded data removed]",
      "text/plain": [
       "<IPython.core.display.Image object>"
      ]
     },
     "metadata": {},
     "output_type": "display_data"
    }
   ],
   "source": [
    "builder = StateGraph(NewState)\n",
    "builder.add_node(\"play Game\", play_game)\n",
    "builder.add_node(\"cricket\",cricket)\n",
    "builder.add_node(\"Kabbadi\",kabbadi)\n",
    "builder.add_node(\"Football\",football)\n",
    "\n",
    "\n",
    "## flow\n",
    "builder.add_edge(START,\"play Game\")\n",
    "builder.add_conditional_edges(\"play Game\",decide_paly)\n",
    "builder.add_edge(\"cricket\",END)\n",
    "\n",
    "\n",
    "builder.add_edge(\"Kabbadi\",END)\n",
    "builder.add_edge(\"Football\",END)\n",
    "\n",
    "\n",
    "\n",
    "graph = builder.compile()\n",
    "\n",
    "display(Image(graph.get_graph().draw_mermaid_png()))"
   ]
  },
  {
   "cell_type": "code",
   "execution_count": 17,
   "id": "dc687683",
   "metadata": {},
   "outputs": [
    {
     "name": "stdout",
     "output_type": "stream",
     "text": [
      "------Play Game Function has been called------\n",
      "------cricket function has been called------\n"
     ]
    },
    {
     "data": {
      "text/plain": [
       "{'name': 'Sai wants to play', 'game': 'cricket'}"
      ]
     },
     "execution_count": 17,
     "metadata": {},
     "output_type": "execute_result"
    }
   ],
   "source": [
    "graph.invoke({\"name\":\"Sai \"})"
   ]
  },
  {
   "cell_type": "code",
   "execution_count": null,
   "id": "47809f7b",
   "metadata": {},
   "outputs": [],
   "source": []
  },
  {
   "cell_type": "code",
   "execution_count": null,
   "id": "49ec805c",
   "metadata": {},
   "outputs": [],
   "source": []
  }
 ],
 "metadata": {
  "kernelspec": {
   "display_name": "Python 3",
   "language": "python",
   "name": "python3"
  },
  "language_info": {
   "codemirror_mode": {
    "name": "ipython",
    "version": 3
   },
   "file_extension": ".py",
   "mimetype": "text/x-python",
   "name": "python",
   "nbconvert_exporter": "python",
   "pygments_lexer": "ipython3",
   "version": "3.12.0"
  }
 },
 "nbformat": 4,
 "nbformat_minor": 5
}
