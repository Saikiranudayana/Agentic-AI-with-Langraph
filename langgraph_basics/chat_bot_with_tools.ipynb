{
 "cells": [
  {
   "cell_type": "markdown",
   "id": "86187b4f",
   "metadata": {},
   "source": [
    "# Building a Chatbot with Mutliple tools uisng langraph\n",
    "\n",
    "### Aim\n",
    "too use multiple tools like wikipedia ,arxiv and few others"
   ]
  },
  {
   "cell_type": "code",
   "execution_count": 1,
   "id": "12a190a8",
   "metadata": {},
   "outputs": [],
   "source": [
    "from langchain_community.tools import ArxivQueryRun,WikipediaQueryRun\n",
    "from langchain_community.utilities import WikipediaAPIWrapper,ArxivAPIWrapper"
   ]
  },
  {
   "cell_type": "code",
   "execution_count": 2,
   "id": "1ed54fc3",
   "metadata": {},
   "outputs": [],
   "source": [
    "api_wraper_arxiv = ArxivAPIWrapper(top_k_results=2,doc_content_chars_max=500 )\n",
    "arxiv = ArxivQueryRun(api_wrapper=api_wraper_arxiv)\n",
    "\n",
    "\n",
    "api_waraper_wikipedia = WikipediaAPIWrapper(top_k_results=2,doc_content_chars_max=500)\n",
    "wikipedia = WikipediaQueryRun(api_wrapper=api_waraper_wikipedia)\n",
    "\n"
   ]
  },
  {
   "cell_type": "code",
   "execution_count": 3,
   "id": "8fbe2cd2",
   "metadata": {},
   "outputs": [
    {
     "data": {
      "text/plain": [
       "'Published: 2018-07-02\\nTitle: The Matrix Calculus You Need For Deep Learning\\nAuthors: Terence Parr, Jeremy Howard\\nSummary: This paper is an attempt to explain all the matrix calculus you need in order\\nto understand the training of deep neural networks. We assume no math knowledge\\nbeyond what you learned in calculus 1, and provide links to help you refresh\\nthe necessary math where needed. Note that you do not need to understand this\\nmaterial before you start learning to train and use deep learning'"
      ]
     },
     "execution_count": 3,
     "metadata": {},
     "output_type": "execute_result"
    }
   ],
   "source": [
    "arxiv.invoke(\"what is attention is all you need paper\")"
   ]
  },
  {
   "cell_type": "code",
   "execution_count": 4,
   "id": "3ba04121",
   "metadata": {},
   "outputs": [],
   "source": [
    "import os \n",
    "from dotenv import load_dotenv\n",
    "load_dotenv()\n",
    "\n",
    "\n",
    "os.environ[\"Tavily_API_KEY\"] = os.getenv(\"TAVILY_API_KEY\")\n",
    "os.environ[\"GROQ_API_KEY\"] = os.getenv(\"GROQ_API_KEY\")"
   ]
  },
  {
   "cell_type": "code",
   "execution_count": null,
   "id": "0fa365fd",
   "metadata": {},
   "outputs": [],
   "source": []
  }
 ],
 "metadata": {
  "kernelspec": {
   "display_name": "Python 3",
   "language": "python",
   "name": "python3"
  },
  "language_info": {
   "codemirror_mode": {
    "name": "ipython",
    "version": 3
   },
   "file_extension": ".py",
   "mimetype": "text/x-python",
   "name": "python",
   "nbconvert_exporter": "python",
   "pygments_lexer": "ipython3",
   "version": "3.12.0"
  }
 },
 "nbformat": 4,
 "nbformat_minor": 5
}
