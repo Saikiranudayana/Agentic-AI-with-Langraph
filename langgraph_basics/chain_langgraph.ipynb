{
 "cells": [
  {
   "cell_type": "code",
   "execution_count": 1,
   "id": "938cab21",
   "metadata": {},
   "outputs": [
    {
     "data": {
      "text/plain": [
       "True"
      ]
     },
     "execution_count": 1,
     "metadata": {},
     "output_type": "execute_result"
    }
   ],
   "source": [
    "import os \n",
    "from dotenv import load_dotenv\n",
    "load_dotenv()"
   ]
  },
  {
   "cell_type": "code",
   "execution_count": 3,
   "id": "05cbd281",
   "metadata": {},
   "outputs": [],
   "source": [
    "os.environ[\"GROQ_API_KEY\"] = os.getenv(\"GROQ_API_KEY\")"
   ]
  },
  {
   "cell_type": "code",
   "execution_count": 5,
   "id": "c4248968",
   "metadata": {},
   "outputs": [],
   "source": [
    "from langchain_core.messages import AIMessage,HumanMessage\n",
    "from pprint import pprint"
   ]
  },
  {
   "cell_type": "code",
   "execution_count": 9,
   "id": "1195ccf3",
   "metadata": {},
   "outputs": [
    {
     "name": "stdout",
     "output_type": "stream",
     "text": [
      "==================================\u001b[1m Ai Message \u001b[0m==================================\n",
      "Name: LLModel\n",
      "\n",
      "Please tell me how can i help you\n",
      "================================\u001b[1m Human Message \u001b[0m=================================\n",
      "Name: Sai\n",
      "\n",
      "I want to learn about LangGraph\n",
      "==================================\u001b[1m Ai Message \u001b[0m==================================\n",
      "Name: LLModel\n",
      "\n",
      "Please tell me which module are you learning\n"
     ]
    }
   ],
   "source": [
    "messages = [AIMessage(content=\"Please tell me how can i help you\",name=\"LLModel\")]\n",
    "messages.append(HumanMessage(content=f\"I want to learn about LangGraph\",name=\"Sai\"))\n",
    "messages.append(AIMessage(content=\"Please tell me which module are you learning\",name=\"LLModel\"))\n",
    "\n",
    "\n",
    "for m in messages:\n",
    "    m.pretty_print()\n",
    "    "
   ]
  },
  {
   "cell_type": "code",
   "execution_count": 16,
   "id": "30293d80",
   "metadata": {},
   "outputs": [],
   "source": [
    "from langchain_groq import ChatGroq\n",
    "llm = ChatGroq(model=\"llama-3.3-70b-versatile\", temperature=0.1, max_tokens=1000)"
   ]
  },
  {
   "cell_type": "code",
   "execution_count": 17,
   "id": "c7e27c86",
   "metadata": {},
   "outputs": [
    {
     "data": {
      "text/plain": [
       "AIMessage(content=' about LangGraph, so I can provide you with more specific information.', additional_kwargs={}, response_metadata={'token_usage': {'completion_tokens': 15, 'prompt_tokens': 63, 'total_tokens': 78, 'completion_time': 0.048044042, 'prompt_time': 0.012713665, 'queue_time': 0.043535272, 'total_time': 0.060757707}, 'model_name': 'llama-3.3-70b-versatile', 'system_fingerprint': 'fp_3f3b593e33', 'service_tier': 'on_demand', 'finish_reason': 'stop', 'logprobs': None}, id='run--7e02a815-08cb-4eeb-a4f5-19ac53e384c3-0', usage_metadata={'input_tokens': 63, 'output_tokens': 15, 'total_tokens': 78})"
      ]
     },
     "execution_count": 17,
     "metadata": {},
     "output_type": "execute_result"
    }
   ],
   "source": [
    "llm.invoke(messages)"
   ]
  },
  {
   "cell_type": "markdown",
   "id": "044aeee8",
   "metadata": {},
   "source": [
    "#### Tools using langgraph"
   ]
  },
  {
   "cell_type": "code",
   "execution_count": 18,
   "id": "6c107dae",
   "metadata": {},
   "outputs": [],
   "source": [
    "def add(a:int,b:int)->int:\n",
    "    \"\"\"\"Add A and B\n",
    "    Args:\n",
    "        a (int): First number\n",
    "        b (int): Second number\n",
    "    Returns:\n",
    "        int: Sum of A and B\n",
    "    \"\"\"\n",
    "    return a+b"
   ]
  },
  {
   "cell_type": "code",
   "execution_count": 20,
   "id": "991287dd",
   "metadata": {},
   "outputs": [
    {
     "data": {
      "text/plain": [
       "ChatGroq(client=<groq.resources.chat.completions.Completions object at 0x000002341234F140>, async_client=<groq.resources.chat.completions.AsyncCompletions object at 0x00000234129B5040>, model_name='llama-3.3-70b-versatile', temperature=0.1, model_kwargs={}, groq_api_key=SecretStr('**********'), max_tokens=1000)"
      ]
     },
     "execution_count": 20,
     "metadata": {},
     "output_type": "execute_result"
    }
   ],
   "source": [
    "llm"
   ]
  },
  {
   "cell_type": "code",
   "execution_count": 24,
   "id": "10722230",
   "metadata": {},
   "outputs": [],
   "source": [
    "llm_with_tools = llm.bind_tools([add])\n",
    "\n",
    "a =llm_with_tools.invoke([HumanMessage(content=\"What is 2+2?\", name=\"Sai\")])"
   ]
  },
  {
   "cell_type": "code",
   "execution_count": 25,
   "id": "a22418e5",
   "metadata": {},
   "outputs": [
    {
     "data": {
      "text/plain": [
       "[{'name': 'add',\n",
       "  'args': {'a': 2, 'b': 2},\n",
       "  'id': 'nts5fxx50',\n",
       "  'type': 'tool_call'}]"
      ]
     },
     "execution_count": 25,
     "metadata": {},
     "output_type": "execute_result"
    }
   ],
   "source": [
    "a.tool_calls"
   ]
  },
  {
   "cell_type": "code",
   "execution_count": 28,
   "id": "461f9a72",
   "metadata": {},
   "outputs": [],
   "source": [
    "from typing_extensions import TypedDict\n",
    "from langchain_core.messages import AnyMessage\n",
    "\n",
    "class StateClass(TypedDict):\n",
    "    message:list[AnyMessage]"
   ]
  },
  {
   "cell_type": "code",
   "execution_count": 29,
   "id": "a53dfd13",
   "metadata": {},
   "outputs": [],
   "source": [
    "## REDUCERS"
   ]
  },
  {
   "cell_type": "code",
   "execution_count": 30,
   "id": "f07275f8",
   "metadata": {},
   "outputs": [],
   "source": [
    "from langgraph.graph.message import add_messages\n",
    "from typing import Annotated\n",
    "\n",
    "class StateClass(TypedDict):\n",
    "    message:list[AnyMessage]"
   ]
  },
  {
   "cell_type": "code",
   "execution_count": null,
   "id": "30ac6b74",
   "metadata": {},
   "outputs": [],
   "source": []
  }
 ],
 "metadata": {
  "kernelspec": {
   "display_name": "Python 3",
   "language": "python",
   "name": "python3"
  },
  "language_info": {
   "codemirror_mode": {
    "name": "ipython",
    "version": 3
   },
   "file_extension": ".py",
   "mimetype": "text/x-python",
   "name": "python",
   "nbconvert_exporter": "python",
   "pygments_lexer": "ipython3",
   "version": "3.12.0"
  }
 },
 "nbformat": 4,
 "nbformat_minor": 5
}
