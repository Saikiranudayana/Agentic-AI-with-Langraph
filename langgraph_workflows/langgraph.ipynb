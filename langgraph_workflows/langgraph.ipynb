{
 "cells": [
  {
   "cell_type": "markdown",
   "id": "91e81fbf",
   "metadata": {},
   "source": [
    "# Propmt chaining"
   ]
  },
  {
   "cell_type": "code",
   "execution_count": 1,
   "id": "00b912f4",
   "metadata": {},
   "outputs": [
    {
     "data": {
      "text/plain": [
       "True"
      ]
     },
     "execution_count": 1,
     "metadata": {},
     "output_type": "execute_result"
    }
   ],
   "source": [
    "import os \n",
    "from dotenv import load_dotenv\n",
    "load_dotenv()"
   ]
  },
  {
   "cell_type": "code",
   "execution_count": 2,
   "id": "e349a3e6",
   "metadata": {},
   "outputs": [],
   "source": [
    "os.environ[\"GROQ_API_KEY\"] = os.getenv(\"GROQ_API_KEY\")"
   ]
  },
  {
   "cell_type": "code",
   "execution_count": 3,
   "id": "30489429",
   "metadata": {},
   "outputs": [],
   "source": [
    "from langchain_groq import ChatGroq\n",
    "\n",
    "llm = ChatGroq(model=\"qwen/qwen3-32b\")"
   ]
  },
  {
   "cell_type": "code",
   "execution_count": 4,
   "id": "90d471a7",
   "metadata": {},
   "outputs": [
    {
     "data": {
      "text/plain": [
       "AIMessage(content=\"<think>\\nOkay, the user is asking for the capital of France. Let me think. I remember that France is a country in Europe. Capitals are usually the major cities where the government is based. For France, I believe the capital is Paris. Wait, is there any other city that could be confused here? Maybe Lyon or Marseille? No, those are other major cities but not the capital. Let me confirm. I've heard Paris referred to as the capital in many contexts, like tourism, politics, etc. Also, the French government is headquartered there. Yeah, I'm pretty confident the answer is Paris. No need to overcomplicate it. The user probably just wants a straightforward answer. I'll go with Paris.\\n</think>\\n\\nThe capital of France is **Paris**. It is the political, economic, and cultural center of the country and is renowned for its historical landmarks, art, and global influence. Let me know if you'd like additional details! 🇫🇷\", additional_kwargs={}, response_metadata={'token_usage': {'completion_tokens': 200, 'prompt_tokens': 15, 'total_tokens': 215, 'completion_time': 0.564507933, 'prompt_time': 0.007066569, 'queue_time': 0.043945798, 'total_time': 0.571574502}, 'model_name': 'qwen/qwen3-32b', 'system_fingerprint': 'fp_5cf921caa2', 'service_tier': 'on_demand', 'finish_reason': 'stop', 'logprobs': None}, id='run--cf841334-1ae2-4e1f-a476-5381ecfd0eb1-0', usage_metadata={'input_tokens': 15, 'output_tokens': 200, 'total_tokens': 215})"
      ]
     },
     "execution_count": 4,
     "metadata": {},
     "output_type": "execute_result"
    }
   ],
   "source": [
    "llm.invoke(\"What is the capital of France?\")  # Example invocation"
   ]
  },
  {
   "cell_type": "code",
   "execution_count": 5,
   "id": "50326f71",
   "metadata": {},
   "outputs": [
    {
     "data": {
      "text/plain": [
       "'<think>\\nOkay, so the user is asking, \"What is the capital of France?\" Let me think about how to approach this.\\n\\nFirst, I know that France is a country in Europe, and like many countries, it has a capital city. I remember from school that the capital of France is Paris. But wait, maybe I should double-check to make sure I\\'m not confusing it with another country. For example, Germany\\'s capital is Berlin, and Spain\\'s is Madrid. Yeah, France is definitely Paris. \\n\\nWait, is there any chance that the capital could be a different city? Maybe Lyon or Marseille? No, Lyon is a major city in France, known for its historical significance and cultural aspects, but it\\'s not the capital. Marseille is a large port city. The capital is definitely Paris. \\n\\nI should also consider if there\\'s any recent change. Sometimes countries change capitals for political or administrative reasons, but I don\\'t recall any such event in France recently. The government has been based in Paris for centuries. \\n\\nAnother angle: Paris is the political, economic, and cultural center of France. It\\'s home to the French government, institutions like the Élysée Palace where the president resides, and the National Assembly. So all the major governmental functions are there. \\n\\nAdditionally, Paris is a well-known city globally, famous for landmarks like the Eiffel Tower, the Louvre, and Notre-Dame Cathedral. That might be why it\\'s the capital, as it\\'s a major hub for tourism and commerce. \\n\\nI think I\\'m confident that the answer is Paris. But just to be thorough, maybe I should recall any other cities that were capitals in French history. For instance, before Paris became the capital, was it ever a different city? I think the capital has been Paris for a long time, maybe since the 12th century. Cities like Orléans or Reims were important in certain periods, but they were never the capital. \\n\\nSo, after considering all these points, I can confirm that the capital of France is indeed Paris.\\n</think>\\n\\nThe capital of France is **Paris**. It is the political, economic, and cultural center of the country, home to iconic landmarks such as the Eiffel Tower, the Louvre Museum, and the Notre-Dame Cathedral. Paris has served as the capital of France for centuries and remains a global hub for art, fashion, and gastronomy.'"
      ]
     },
     "execution_count": 5,
     "metadata": {},
     "output_type": "execute_result"
    }
   ],
   "source": [
    "result = llm.invoke(\"What is the capital of France?\")  # Example invocation\n",
    "result.content"
   ]
  },
  {
   "cell_type": "code",
   "execution_count": 7,
   "id": "3a6b80e2",
   "metadata": {},
   "outputs": [],
   "source": [
    "from typing_extensions import TypedDict\n",
    "from langgraph.graph import StateGraph,START,END\n",
    "from IPython.display import display, Image\n",
    "\n",
    "## Graph state \n",
    "class State(TypedDict):\n",
    "    topic: str\n",
    "    story: str\n",
    "    improved_story: str\n",
    "    final_story: str\n",
    "    \n",
    "    \n",
    "def generate_story(state:State):\n",
    "    msg = llm.invoke(f\"generate a one sentence of a story about {state['topic']}\")\n",
    "    return {\"story\": msg.content}\n",
    "\n",
    "def check_conflict(state:State):\n",
    "    if \"?\"  in state[\"story\"]:\n",
    "        return \"Fail\"\n",
    "    return \"Pass\"\n",
    "def improved_story(state:State):\n",
    "    msg= llm.invoke(f\"Enhance the story with vevid details and make it more engaging: {state['story']}\")\n",
    "    return {\"improved_story\": msg.content}\n",
    "\n",
    "\n",
    "def final_story(state:State):\n",
    "    msg = llm.invoke(f\"Add a Unexpected twist to this story:{state['improved_story']}\")\n",
    "    return {\"final_story\": msg.content}\n",
    "    "
   ]
  },
  {
   "cell_type": "code",
   "execution_count": 10,
   "id": "6484978b",
   "metadata": {},
   "outputs": [
    {
     "data": {
      "text/plain": [
       "<langgraph.graph.state.StateGraph at 0x1dc4ed7d7f0>"
      ]
     },
     "execution_count": 10,
     "metadata": {},
     "output_type": "execute_result"
    }
   ],
   "source": [
    "## build the graph\n",
    "\n",
    "graph = StateGraph(State)\n",
    "graph.add_node(\"generate\",generate_story)\n",
    "# graph.add_node(\"check_conflict\", check_conflict)\n",
    "graph.add_node(\"improved_story\", improved_story)\n",
    "graph.add_node(\"final_story\", final_story)\n",
    "\n",
    "\n",
    "## Define  the edges  \n",
    "graph.add_edge(START,\"generate\")\n",
    "graph.add_conditional_edges(\"generate\",check_conflict,{\"Pass\":\"improved_story\",\"Fail\":\"generate\"})\n",
    "graph.add_edge(\"improved_story\",\"final_story\")\n",
    "graph.add_edge(\"final_story\",END)\n"
   ]
  },
  {
   "cell_type": "code",
   "execution_count": 13,
   "id": "34f41353",
   "metadata": {},
   "outputs": [
    {
     "ename": "ValueError",
     "evalue": "Failed to reach https://mermaid.ink/ API while trying to render your graph. Status code: 502.\n\nTo resolve this issue:\n1. Check your internet connection and try again\n2. Try with higher retry settings: `draw_mermaid_png(..., max_retries=5, retry_delay=2.0)`\n3. Use the Pyppeteer rendering method which will render your graph locally in a browser: `draw_mermaid_png(..., draw_method=MermaidDrawMethod.PYPPETEER)`",
     "output_type": "error",
     "traceback": [
      "\u001b[31m---------------------------------------------------------------------------\u001b[39m",
      "\u001b[31mValueError\u001b[39m                                Traceback (most recent call last)",
      "\u001b[36mCell\u001b[39m\u001b[36m \u001b[39m\u001b[32mIn[13]\u001b[39m\u001b[32m, line 4\u001b[39m\n\u001b[32m      1\u001b[39m compile_graph = graph.compile()\n\u001b[32m----> \u001b[39m\u001b[32m4\u001b[39m graph_image = \u001b[43mcompile_graph\u001b[49m\u001b[43m.\u001b[49m\u001b[43mget_graph\u001b[49m\u001b[43m(\u001b[49m\u001b[43m)\u001b[49m\u001b[43m.\u001b[49m\u001b[43mdraw_mermaid_png\u001b[49m\u001b[43m(\u001b[49m\u001b[43m)\u001b[49m\n\u001b[32m      5\u001b[39m display(Image(graph_image))\n",
      "\u001b[36mFile \u001b[39m\u001b[32mc:\\Users\\saiki\\OneDrive\\Desktop\\Agentic Ai with Langgraph\\langgraph\\Lib\\site-packages\\langchain_core\\runnables\\graph.py:695\u001b[39m, in \u001b[36mGraph.draw_mermaid_png\u001b[39m\u001b[34m(self, curve_style, node_colors, wrap_label_n_words, output_file_path, draw_method, background_color, padding, max_retries, retry_delay, frontmatter_config)\u001b[39m\n\u001b[32m    687\u001b[39m \u001b[38;5;28;01mfrom\u001b[39;00m\u001b[38;5;250m \u001b[39m\u001b[34;01mlangchain_core\u001b[39;00m\u001b[34;01m.\u001b[39;00m\u001b[34;01mrunnables\u001b[39;00m\u001b[34;01m.\u001b[39;00m\u001b[34;01mgraph_mermaid\u001b[39;00m\u001b[38;5;250m \u001b[39m\u001b[38;5;28;01mimport\u001b[39;00m draw_mermaid_png\n\u001b[32m    689\u001b[39m mermaid_syntax = \u001b[38;5;28mself\u001b[39m.draw_mermaid(\n\u001b[32m    690\u001b[39m     curve_style=curve_style,\n\u001b[32m    691\u001b[39m     node_colors=node_colors,\n\u001b[32m    692\u001b[39m     wrap_label_n_words=wrap_label_n_words,\n\u001b[32m    693\u001b[39m     frontmatter_config=frontmatter_config,\n\u001b[32m    694\u001b[39m )\n\u001b[32m--> \u001b[39m\u001b[32m695\u001b[39m \u001b[38;5;28;01mreturn\u001b[39;00m \u001b[43mdraw_mermaid_png\u001b[49m\u001b[43m(\u001b[49m\n\u001b[32m    696\u001b[39m \u001b[43m    \u001b[49m\u001b[43mmermaid_syntax\u001b[49m\u001b[43m=\u001b[49m\u001b[43mmermaid_syntax\u001b[49m\u001b[43m,\u001b[49m\n\u001b[32m    697\u001b[39m \u001b[43m    \u001b[49m\u001b[43moutput_file_path\u001b[49m\u001b[43m=\u001b[49m\u001b[43moutput_file_path\u001b[49m\u001b[43m,\u001b[49m\n\u001b[32m    698\u001b[39m \u001b[43m    \u001b[49m\u001b[43mdraw_method\u001b[49m\u001b[43m=\u001b[49m\u001b[43mdraw_method\u001b[49m\u001b[43m,\u001b[49m\n\u001b[32m    699\u001b[39m \u001b[43m    \u001b[49m\u001b[43mbackground_color\u001b[49m\u001b[43m=\u001b[49m\u001b[43mbackground_color\u001b[49m\u001b[43m,\u001b[49m\n\u001b[32m    700\u001b[39m \u001b[43m    \u001b[49m\u001b[43mpadding\u001b[49m\u001b[43m=\u001b[49m\u001b[43mpadding\u001b[49m\u001b[43m,\u001b[49m\n\u001b[32m    701\u001b[39m \u001b[43m    \u001b[49m\u001b[43mmax_retries\u001b[49m\u001b[43m=\u001b[49m\u001b[43mmax_retries\u001b[49m\u001b[43m,\u001b[49m\n\u001b[32m    702\u001b[39m \u001b[43m    \u001b[49m\u001b[43mretry_delay\u001b[49m\u001b[43m=\u001b[49m\u001b[43mretry_delay\u001b[49m\u001b[43m,\u001b[49m\n\u001b[32m    703\u001b[39m \u001b[43m\u001b[49m\u001b[43m)\u001b[49m\n",
      "\u001b[36mFile \u001b[39m\u001b[32mc:\\Users\\saiki\\OneDrive\\Desktop\\Agentic Ai with Langgraph\\langgraph\\Lib\\site-packages\\langchain_core\\runnables\\graph_mermaid.py:294\u001b[39m, in \u001b[36mdraw_mermaid_png\u001b[39m\u001b[34m(mermaid_syntax, output_file_path, draw_method, background_color, padding, max_retries, retry_delay)\u001b[39m\n\u001b[32m    288\u001b[39m     img_bytes = asyncio.run(\n\u001b[32m    289\u001b[39m         _render_mermaid_using_pyppeteer(\n\u001b[32m    290\u001b[39m             mermaid_syntax, output_file_path, background_color, padding\n\u001b[32m    291\u001b[39m         )\n\u001b[32m    292\u001b[39m     )\n\u001b[32m    293\u001b[39m \u001b[38;5;28;01melif\u001b[39;00m draw_method == MermaidDrawMethod.API:\n\u001b[32m--> \u001b[39m\u001b[32m294\u001b[39m     img_bytes = \u001b[43m_render_mermaid_using_api\u001b[49m\u001b[43m(\u001b[49m\n\u001b[32m    295\u001b[39m \u001b[43m        \u001b[49m\u001b[43mmermaid_syntax\u001b[49m\u001b[43m,\u001b[49m\n\u001b[32m    296\u001b[39m \u001b[43m        \u001b[49m\u001b[43moutput_file_path\u001b[49m\u001b[43m=\u001b[49m\u001b[43moutput_file_path\u001b[49m\u001b[43m,\u001b[49m\n\u001b[32m    297\u001b[39m \u001b[43m        \u001b[49m\u001b[43mbackground_color\u001b[49m\u001b[43m=\u001b[49m\u001b[43mbackground_color\u001b[49m\u001b[43m,\u001b[49m\n\u001b[32m    298\u001b[39m \u001b[43m        \u001b[49m\u001b[43mmax_retries\u001b[49m\u001b[43m=\u001b[49m\u001b[43mmax_retries\u001b[49m\u001b[43m,\u001b[49m\n\u001b[32m    299\u001b[39m \u001b[43m        \u001b[49m\u001b[43mretry_delay\u001b[49m\u001b[43m=\u001b[49m\u001b[43mretry_delay\u001b[49m\u001b[43m,\u001b[49m\n\u001b[32m    300\u001b[39m \u001b[43m    \u001b[49m\u001b[43m)\u001b[49m\n\u001b[32m    301\u001b[39m \u001b[38;5;28;01melse\u001b[39;00m:\n\u001b[32m    302\u001b[39m     supported_methods = \u001b[33m\"\u001b[39m\u001b[33m, \u001b[39m\u001b[33m\"\u001b[39m.join([m.value \u001b[38;5;28;01mfor\u001b[39;00m m \u001b[38;5;129;01min\u001b[39;00m MermaidDrawMethod])\n",
      "\u001b[36mFile \u001b[39m\u001b[32mc:\\Users\\saiki\\OneDrive\\Desktop\\Agentic Ai with Langgraph\\langgraph\\Lib\\site-packages\\langchain_core\\runnables\\graph_mermaid.py:451\u001b[39m, in \u001b[36m_render_mermaid_using_api\u001b[39m\u001b[34m(mermaid_syntax, output_file_path, background_color, file_type, max_retries, retry_delay)\u001b[39m\n\u001b[32m    446\u001b[39m     \u001b[38;5;66;03m# For other status codes, fail immediately\u001b[39;00m\n\u001b[32m    447\u001b[39m     msg = (\n\u001b[32m    448\u001b[39m         \u001b[33m\"\u001b[39m\u001b[33mFailed to reach https://mermaid.ink/ API while trying to render \u001b[39m\u001b[33m\"\u001b[39m\n\u001b[32m    449\u001b[39m         \u001b[33mf\u001b[39m\u001b[33m\"\u001b[39m\u001b[33myour graph. Status code: \u001b[39m\u001b[38;5;132;01m{\u001b[39;00mresponse.status_code\u001b[38;5;132;01m}\u001b[39;00m\u001b[33m.\u001b[39m\u001b[38;5;130;01m\\n\u001b[39;00m\u001b[38;5;130;01m\\n\u001b[39;00m\u001b[33m\"\u001b[39m\n\u001b[32m    450\u001b[39m     ) + error_msg_suffix\n\u001b[32m--> \u001b[39m\u001b[32m451\u001b[39m     \u001b[38;5;28;01mraise\u001b[39;00m \u001b[38;5;167;01mValueError\u001b[39;00m(msg)\n\u001b[32m    453\u001b[39m \u001b[38;5;28;01mexcept\u001b[39;00m (requests.RequestException, requests.Timeout) \u001b[38;5;28;01mas\u001b[39;00m e:\n\u001b[32m    454\u001b[39m     \u001b[38;5;28;01mif\u001b[39;00m attempt < max_retries:\n\u001b[32m    455\u001b[39m         \u001b[38;5;66;03m# Exponential backoff with jitter\u001b[39;00m\n",
      "\u001b[31mValueError\u001b[39m: Failed to reach https://mermaid.ink/ API while trying to render your graph. Status code: 502.\n\nTo resolve this issue:\n1. Check your internet connection and try again\n2. Try with higher retry settings: `draw_mermaid_png(..., max_retries=5, retry_delay=2.0)`\n3. Use the Pyppeteer rendering method which will render your graph locally in a browser: `draw_mermaid_png(..., draw_method=MermaidDrawMethod.PYPPETEER)`"
     ]
    }
   ],
   "source": [
    "compile_graph = graph.compile()\n",
    "\n",
    "\n",
    "graph_image = compile_graph.get_graph().draw_mermaid_png()\n",
    "display(Image(graph_image))"
   ]
  },
  {
   "cell_type": "code",
   "execution_count": null,
   "id": "50b5c1ba",
   "metadata": {},
   "outputs": [],
   "source": []
  }
 ],
 "metadata": {
  "kernelspec": {
   "display_name": "Python 3",
   "language": "python",
   "name": "python3"
  },
  "language_info": {
   "codemirror_mode": {
    "name": "ipython",
    "version": 3
   },
   "file_extension": ".py",
   "mimetype": "text/x-python",
   "name": "python",
   "nbconvert_exporter": "python",
   "pygments_lexer": "ipython3",
   "version": "3.12.0"
  }
 },
 "nbformat": 4,
 "nbformat_minor": 5
}
